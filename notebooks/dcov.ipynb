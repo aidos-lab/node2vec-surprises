{
 "cells": [
  {
   "cell_type": "code",
   "execution_count": 12,
   "metadata": {},
   "outputs": [],
   "source": [
    "import argparse\n",
    "\n",
    "import torch\n",
    "import uuid\n",
    "\n",
    "import numpy as np\n",
    "\n",
    "from torch_geometric.nn import Node2Vec\n",
    "from torch_geometric.utils import erdos_renyi_graph\n",
    "\n",
    "import os\n",
    "import csv\n",
    "\n",
    "import gph\n",
    "import gtda\n",
    "from gtda import diagrams\n",
    "from gtda import homology\n",
    "\n",
    "import matplotlib.pyplot as plt\n",
    "\n",
    "import sys\n",
    "# appending a path\n",
    "sys.path.append('../rawos')\n",
    "import metrics\n",
    "from sklearn.metrics import pairwise_distances\n",
    "import scipy\n",
    "from scipy import special\n",
    "from scipy.stats import pearsonr\n",
    "import skbio\n",
    "\n",
    "\n",
    "import dcov"
   ]
  },
  {
   "cell_type": "code",
   "execution_count": 13,
   "metadata": {},
   "outputs": [],
   "source": [
    "def l1(x, y):\n",
    "    return np.sum(np.abs(x - y))"
   ]
  },
  {
   "cell_type": "code",
   "execution_count": 14,
   "metadata": {},
   "outputs": [],
   "source": [
    "def euclidean_distance(x,y): \n",
    "    return np.sqrt(np.sum((x - y)**2))\n",
    "    "
   ]
  },
  {
   "cell_type": "code",
   "execution_count": 15,
   "metadata": {},
   "outputs": [],
   "source": [
    "filename1 ='../results/er/er-c5-d16-l5-n10-p0_25-keep-0a05984ca01c41d495dd131e2eb636eb.tsv'\n",
    "filename2 = '../results/er/er-c5-d16-l5-n10-p0_25-keep-0cb8d19dd9df4df7b80c46432c477b07.tsv'\n",
    "X= np.loadtxt(filename1, delimiter=\"\\t\")\n",
    "diamx = metrics.diameter(X)\n",
    "X= X/diamx\n",
    "\n",
    "Y= np.loadtxt(filename2, delimiter=\"\\t\")\n",
    "diamy = metrics.diameter(Y)\n",
    "Y= Y/diamy"
   ]
  },
  {
   "cell_type": "code",
   "execution_count": 16,
   "metadata": {},
   "outputs": [],
   "source": [
    "dcov_XY = dcov.dcov(X,Y,euclidean_distance)\n",
    "dvar_X = np.sqrt(dcov.dcov(X,X,euclidean_distance))\n",
    "dvar_Y = np.sqrt(dcov.dcov(Y,Y,euclidean_distance))"
   ]
  },
  {
   "cell_type": "code",
   "execution_count": 19,
   "metadata": {},
   "outputs": [
    {
     "name": "stdout",
     "output_type": "stream",
     "text": [
      "0.5178248998413958\n"
     ]
    }
   ],
   "source": [
    "dCor_XY = np.sqrt(dcov_XY/(dvar_X*dvar_Y))\n",
    "print(dCor_XY)"
   ]
  },
  {
   "cell_type": "code",
   "execution_count": 25,
   "metadata": {},
   "outputs": [],
   "source": [
    "def dCor(filename1, filename2):\n",
    "    \"\"\" Computes the distance correlation as \n",
    "        in the paper 'graph pseudo metrics from a topological point of view'\n",
    "    \"\"\"\n",
    "    X= np.loadtxt(filename1, delimiter=\"\\t\")\n",
    "    diamx = metrics.diameter(X)\n",
    "    X= X/diamx\n",
    "\n",
    "    Y= np.loadtxt(filename2, delimiter=\"\\t\")\n",
    "    diamy = metrics.diameter(Y)\n",
    "    Y= Y/diamy\n",
    "    \n",
    "    dcov_XY = dcov.dcov(X,Y,euclidean_distance)\n",
    "    dvar_X = np.sqrt(dcov.dcov(X,X,euclidean_distance))\n",
    "    dvar_Y = np.sqrt(dcov.dcov(Y,Y,euclidean_distance))\n",
    "    \n",
    "    return np.sqrt(dcov_XY/(dvar_X*dvar_Y))"
   ]
  },
  {
   "cell_type": "code",
   "execution_count": 27,
   "metadata": {},
   "outputs": [
    {
     "data": {
      "text/plain": [
       "0.5178248998413958"
      ]
     },
     "execution_count": 27,
     "metadata": {},
     "output_type": "execute_result"
    }
   ],
   "source": [
    "dCor(filename1,filename2)"
   ]
  },
  {
   "cell_type": "code",
   "execution_count": null,
   "metadata": {},
   "outputs": [],
   "source": []
  }
 ],
 "metadata": {
  "kernelspec": {
   "display_name": "Python 3",
   "language": "python",
   "name": "python3"
  },
  "language_info": {
   "codemirror_mode": {
    "name": "ipython",
    "version": 3
   },
   "file_extension": ".py",
   "mimetype": "text/x-python",
   "name": "python",
   "nbconvert_exporter": "python",
   "pygments_lexer": "ipython3",
   "version": "3.7.6"
  }
 },
 "nbformat": 4,
 "nbformat_minor": 4
}
