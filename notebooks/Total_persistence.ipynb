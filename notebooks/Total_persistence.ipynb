{
 "cells": [
  {
   "cell_type": "code",
   "execution_count": 1,
   "metadata": {},
   "outputs": [],
   "source": [
    "import argparse\n",
    "\n",
    "import torch\n",
    "import uuid\n",
    "\n",
    "import numpy as np\n",
    "\n",
    "from torch_geometric.nn import Node2Vec\n",
    "from torch_geometric.utils import erdos_renyi_graph\n",
    "\n",
    "import os\n",
    "import csv\n",
    "\n",
    "import gph\n",
    "import gtda\n",
    "from gtda import diagrams\n",
    "from gtda import homology\n",
    "\n",
    "import matplotlib.pyplot as plt\n",
    "\n",
    "import sys\n",
    "# appending a path\n",
    "sys.path.append('../rawos')\n",
    "import metrics\n"
   ]
  },
  {
   "cell_type": "code",
   "execution_count": 2,
   "metadata": {},
   "outputs": [],
   "source": [
    "\n",
    "def get_dimension(diagrams, dim=0):\n",
    "    \"\"\"Get specific dimension of persistence diagram.\"\"\"\n",
    "    # This reads a little bit weird because of the idiosyncratic way of\n",
    "    # handling masks. We first extract all triples in all time steps\n",
    "    # that match the specified dimension. *Then* we remove the dimension\n",
    "    # information (since it is spurious) and reshape the array to\n",
    "    # account for the original number of time steps again. Whew!\n",
    "    mask = diagrams[..., 2] == dim\n",
    "    diagrams = diagrams[mask][:, :2]\n",
    "    return diagrams"
   ]
  },
  {
   "cell_type": "code",
   "execution_count": 12,
   "metadata": {},
   "outputs": [],
   "source": [
    "def compute_total_persistence(filename, max_dim): \n",
    "    \"\"\"takes as input an embedding in the file called filename \n",
    "    and returns a vector of the total persistence in each dim\"\"\"\n",
    "    \n",
    "    emb = np.loadtxt(filename, delimiter=\"\\t\")\n",
    "    diam = metrics.diameter(emb)\n",
    "    emb= emb/diam \n",
    "    ph = gtda.homology.VietorisRipsPersistence(metric='euclidean', max_edge_length=np.inf, homology_dimensions=tuple(range(max_dim+1)), coeff=2, infinity_values=None, n_jobs=None).fit_transform([emb])\n",
    "    \n",
    "    total_pers=np.zeros((max_dim+1,1))\n",
    "    for i in range(max_dim+1): \n",
    "        dgm_i= get_dimension(ph[0,:,:],i)\n",
    "        total_pers[i]= total_persistence(dgm_i)\n",
    "        \n",
    "    return total_pers\n",
    "    \n",
    "    \n",
    "    \n",
    "    "
   ]
  },
  {
   "cell_type": "code",
   "execution_count": 13,
   "metadata": {},
   "outputs": [
    {
     "data": {
      "text/plain": [
       "array([[10.14294864],\n",
       "       [ 0.01030475]])"
      ]
     },
     "execution_count": 13,
     "metadata": {},
     "output_type": "execute_result"
    }
   ],
   "source": [
    "filename ='../results/er-c5-d16-l5-n10-p0_25-1de110b3e022445bbcffe280ac0601a8.tsv' \n",
    "compute_total_persistence(filename, 1)"
   ]
  },
  {
   "cell_type": "code",
   "execution_count": 5,
   "metadata": {},
   "outputs": [
    {
     "name": "stdout",
     "output_type": "stream",
     "text": [
      "200\n",
      "200\n",
      "200\n",
      "200\n",
      "200\n",
      "200\n",
      "200\n",
      "200\n",
      "200\n",
      "200\n"
     ]
    }
   ],
   "source": [
    "## import files\n",
    "c = 5\n",
    "d = 16\n",
    "l = 5\n",
    "n = 10\n",
    "\n",
    "max_dim = 1\n",
    "\n",
    "\"\"\"c = 5\n",
    "d= 5\n",
    "l=10\n",
    "n=10\"\"\"\n",
    "\n",
    "\n",
    "\n",
    "filename = 'er'\n",
    "filename += '-c'+str(c)\n",
    "filename += '-d'+ str(d)\n",
    "filename += '-l'+str(l)\n",
    "filename += '-n'+ str(n)\n",
    "\n",
    "## get filenames according to filter\n",
    "path = '../results'\n",
    "#path = '../rawos'\n",
    "files = []\n",
    "for i in os.listdir(path):\n",
    "    if os.path.isfile(os.path.join(path,i)) and filename in i:\n",
    "        files.append(i)\n",
    "\n",
    "## load embeddings\n",
    "Emb_list= []\n",
    "\n",
    "for i,file in zip(range(len(files)),files): \n",
    "    emb = np.loadtxt(path+'/'+file, delimiter=\"\\t\")\n",
    "    diam = metrics.diameter(emb)\n",
    "    Emb_list.append(emb/diam)\n",
    "    \n",
    "ph = gtda.homology.VietorisRipsPersistence(metric='euclidean', max_edge_length=np.inf, homology_dimensions=tuple(range(max_dim+1)), coeff=2, infinity_values=None, n_jobs=None).fit_transform(Embs)\n"
   ]
  }
 ],
 "metadata": {
  "kernelspec": {
   "display_name": "Python 3",
   "language": "python",
   "name": "python3"
  },
  "language_info": {
   "codemirror_mode": {
    "name": "ipython",
    "version": 3
   },
   "file_extension": ".py",
   "mimetype": "text/x-python",
   "name": "python",
   "nbconvert_exporter": "python",
   "pygments_lexer": "ipython3",
   "version": "3.7.6"
  }
 },
 "nbformat": 4,
 "nbformat_minor": 4
}
