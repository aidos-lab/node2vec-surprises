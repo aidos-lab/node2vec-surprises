{
 "cells": [
  {
   "cell_type": "code",
   "execution_count": 78,
   "metadata": {},
   "outputs": [],
   "source": [
    "import argparse\n",
    "\n",
    "import torch\n",
    "import uuid\n",
    "\n",
    "import numpy as np\n",
    "\n",
    "from torch_geometric.nn import Node2Vec\n",
    "from torch_geometric.utils import erdos_renyi_graph\n",
    "\n",
    "import os\n",
    "import csv\n",
    "\n",
    "import gph\n",
    "import gtda\n",
    "from gtda import diagrams\n",
    "from gtda import homology\n",
    "\n",
    "import matplotlib.pyplot as plt\n",
    "\n",
    "import sys\n",
    "# appending a path\n",
    "sys.path.append('../rawos')\n",
    "import metrics\n"
   ]
  },
  {
   "cell_type": "code",
   "execution_count": 79,
   "metadata": {},
   "outputs": [],
   "source": [
    "def total_persistence(diagram, p=2):\n",
    "    \"\"\"Calculate total persistence of a persistence diagram.\"\"\"\n",
    "    return np.sum(np.power(np.abs(np.diff(diagram[:, 0:2])), 2))\n",
    "\n",
    "def get_dimension(diagrams, dim=0):\n",
    "    \"\"\"Get specific dimension of persistence diagram.\"\"\"\n",
    "    # This reads a little bit weird because of the idiosyncratic way of\n",
    "    # handling masks. We first extract all triples in all time steps\n",
    "    # that match the specified dimension. *Then* we remove the dimension\n",
    "    # information (since it is spurious) and reshape the array to\n",
    "    # account for the original number of time steps again. Whew!\n",
    "    T = len(diagrams)\n",
    "    mask = diagrams[..., 2] == dim\n",
    "    diagrams = diagrams[mask][:, :2].reshape(T, -1, 2)\n",
    "\n",
    "    return diagrams, T\n"
   ]
  },
  {
   "cell_type": "code",
   "execution_count": 89,
   "metadata": {},
   "outputs": [],
   "source": [
    "## import files\n",
    "c = 5\n",
    "d = 16\n",
    "l = 5\n",
    "n = 10\n",
    "\n",
    "max_dim = 1\n",
    "\n",
    "\"\"\"c = 5\n",
    "d= 5\n",
    "l=10\n",
    "n=10\"\"\"\n",
    "\n",
    "\n",
    "\n",
    "filename = 'er'\n",
    "filename += '-c'+str(c)\n",
    "filename += '-d'+ str(d)\n",
    "filename += '-l'+str(l)\n",
    "filename += '-n'+ str(n)\n",
    "\n",
    "## get filenames according to filter\n",
    "path = '../results'\n",
    "#path = '../rawos'\n",
    "files = []\n",
    "for i in os.listdir(path):\n",
    "    if os.path.isfile(os.path.join(path,i)) and filename in i:\n",
    "        files.append(i)\n",
    "\n",
    "## load embeddings\n",
    "Emb_list= []\n",
    "dim = 0\n",
    "for i,file in zip(range(len(files)),files): \n",
    "    emb = np.loadtxt(path+'/'+file, delimiter=\"\\t\")\n",
    "    diam = metrics.diameter(emb)\n",
    "    Emb_list.append(emb/diam)\n",
    "    if emb.shape[0] > dim:\n",
    "        dim = emb.shape[0]\n",
    "        \n",
    "\n",
    "Embs = np.zeros((len(Emb_list),dim, d)) \n",
    "for i in range(len(Emb_list)):\n",
    "    Embs[i,:,:] = Emb_list[i] \n",
    "\n",
    "ph = gtda.homology.VietorisRipsPersistence(metric='euclidean', max_edge_length=np.inf, homology_dimensions=tuple(range(max_dim+1)), coeff=2, infinity_values=None, n_jobs=None).fit_transform(Embs)\n"
   ]
  },
  {
   "cell_type": "code",
   "execution_count": 93,
   "metadata": {},
   "outputs": [
    {
     "name": "stdout",
     "output_type": "stream",
     "text": [
      "[9.371290405921307, 10.520334260273302, 13.100107757770068, 13.702381461918115, 10.836404870206657, 8.648231650589691, 12.827913595219947, 11.22237666626538, 10.15325338617463, 8.122722488466898]\n"
     ]
    }
   ],
   "source": [
    "Total_pers = []\n",
    "for i in range(ph.shape[0]):\n",
    "    Total_pers.append(total_persistence(ph[i,:,:],2))\n",
    "print(Total_pers)"
   ]
  },
  {
   "cell_type": "code",
   "execution_count": 94,
   "metadata": {},
   "outputs": [],
   "source": [
    "## write files\n"
   ]
  },
  {
   "cell_type": "code",
   "execution_count": null,
   "metadata": {},
   "outputs": [],
   "source": []
  }
 ],
 "metadata": {
  "kernelspec": {
   "display_name": "Python 3",
   "language": "python",
   "name": "python3"
  },
  "language_info": {
   "codemirror_mode": {
    "name": "ipython",
    "version": 3
   },
   "file_extension": ".py",
   "mimetype": "text/x-python",
   "name": "python",
   "nbconvert_exporter": "python",
   "pygments_lexer": "ipython3",
   "version": "3.7.6"
  }
 },
 "nbformat": 4,
 "nbformat_minor": 4
}
