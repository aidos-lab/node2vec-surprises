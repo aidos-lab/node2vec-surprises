{
 "cells": [
  {
   "cell_type": "code",
   "execution_count": 67,
   "metadata": {},
   "outputs": [],
   "source": [
    "import argparse\n",
    "\n",
    "import torch\n",
    "import uuid\n",
    "\n",
    "import numpy as np\n",
    "\n",
    "from torch_geometric.nn import Node2Vec\n",
    "from torch_geometric.utils import erdos_renyi_graph\n",
    "\n",
    "import os\n",
    "import csv\n",
    "\n",
    "import gph\n",
    "import gtda\n",
    "from gtda import diagrams\n",
    "from gtda import homology\n",
    "\n",
    "import matplotlib.pyplot as plt"
   ]
  },
  {
   "cell_type": "code",
   "execution_count": 68,
   "metadata": {},
   "outputs": [
    {
     "name": "stdout",
     "output_type": "stream",
     "text": [
      "['er-c5-d5-l10-n10-3ab3b40f452544febe3662e98bc3cdfe.tsv', 'er-c5-d5-l10-n10-3eb59b182eb3460081807487e0a76f35.tsv']\n"
     ]
    }
   ],
   "source": [
    "## import files\n",
    "d = 5\n",
    "n = 10\n",
    "l = 10 \n",
    "c = 5\n",
    "\n",
    "filename = 'er'\n",
    "filename += '-c'+str(c)\n",
    "filename += '-d'+ str(d)\n",
    "filename += '-l'+str(l)\n",
    "filename += '-n'+ str(n)\n",
    "\n",
    "## get filenames according to filter\n",
    "path = '../rawos'\n",
    "files = []\n",
    "for i in os.listdir(path):\n",
    "    if os.path.isfile(os.path.join(path,i)) and filename in i:\n",
    "        files.append(i)\n",
    "        \n",
    "print(files)"
   ]
  },
  {
   "cell_type": "code",
   "execution_count": 73,
   "metadata": {},
   "outputs": [
    {
     "name": "stdout",
     "output_type": "stream",
     "text": [
      "(2, 312, 3)\n",
      "[[0.         1.33051071]\n",
      " [1.33072866 0.        ]]\n"
     ]
    }
   ],
   "source": [
    "## load embeddings\n",
    "\n",
    "Emb_list= []\n",
    "dim = 0\n",
    "for i,file in zip(range(len(files)),files): \n",
    "    emb = np.loadtxt(path+'/'+file, delimiter=\"\\t\")\n",
    "    Emb_list.append(emb)\n",
    "    if emb.shape[0] > dim:\n",
    "        dim = emb.shape[0]\n",
    "\n",
    "Embs = np.zeros((len(Emb_list),dim,5)) \n",
    "for i in range(len(Emb_list)):\n",
    "    Embs[i,:,:] = Emb_list[i] \n",
    "##compute PH\n",
    "ph = gtda.homology.VietorisRipsPersistence(metric='euclidean', max_edge_length=np.inf, homology_dimensions=(0, 1), coeff=2, infinity_values=None, n_jobs=None).fit_transform(Embs)\n",
    "print(ph.shape)\n",
    "\n",
    "## compute pairwise distances\n",
    "Dist  =gtda.diagrams.PairwiseDistance(metric='wasserstein', metric_params=None, order=2.0, n_jobs=None).fit_transform(ph, None)\n",
    "print(Dist)\n",
    "\n"
   ]
  },
  {
   "cell_type": "code",
   "execution_count": 74,
   "metadata": {},
   "outputs": [
    {
     "data": {
      "text/plain": [
       "200"
      ]
     },
     "execution_count": 74,
     "metadata": {},
     "output_type": "execute_result"
    }
   ],
   "source": [
    "emb.shape[0]"
   ]
  },
  {
   "cell_type": "code",
   "execution_count": 75,
   "metadata": {},
   "outputs": [
    {
     "data": {
      "image/png": "[encoded data removed]",
      "text/plain": [
       "<Figure size 432x288 with 2 Axes>"
      ]
     },
     "metadata": {
      "needs_background": "light"
     },
     "output_type": "display_data"
    }
   ],
   "source": [
    "plt.imshow(Dist)\n",
    "plt.colorbar()\n",
    "plt.show()"
   ]
  },
  {
   "cell_type": "code",
   "execution_count": null,
   "metadata": {},
   "outputs": [],
   "source": []
  },
  {
   "cell_type": "code",
   "execution_count": null,
   "metadata": {},
   "outputs": [],
   "source": []
  }
 ],
 "metadata": {
  "kernelspec": {
   "display_name": "Python 3",
   "language": "python",
   "name": "python3"
  },
  "language_info": {
   "codemirror_mode": {
    "name": "ipython",
    "version": 3
   },
   "file_extension": ".py",
   "mimetype": "text/x-python",
   "name": "python",
   "nbconvert_exporter": "python",
   "pygments_lexer": "ipython3",
   "version": "3.7.6"
  }
 },
 "nbformat": 4,
 "nbformat_minor": 4
}
