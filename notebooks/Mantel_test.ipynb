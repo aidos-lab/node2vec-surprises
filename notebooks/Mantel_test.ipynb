{
 "cells": [
  {
   "cell_type": "code",
   "execution_count": 6,
   "metadata": {},
   "outputs": [],
   "source": [
    "import argparse\n",
    "\n",
    "import torch\n",
    "import uuid\n",
    "\n",
    "import numpy as np\n",
    "\n",
    "from torch_geometric.nn import Node2Vec\n",
    "from torch_geometric.utils import erdos_renyi_graph\n",
    "\n",
    "import os\n",
    "import csv\n",
    "\n",
    "import gph\n",
    "import gtda\n",
    "from gtda import diagrams\n",
    "from gtda import homology\n",
    "\n",
    "import matplotlib.pyplot as plt\n",
    "\n",
    "import sys\n",
    "# appending a path\n",
    "sys.path.append('../rawos')\n",
    "import metrics\n",
    "from sklearn.metrics import pairwise_distances\n",
    "import scipy\n",
    "from scipy import special\n",
    "from scipy.stats import pearsonr\n",
    "import skbio"
   ]
  },
  {
   "cell_type": "code",
   "execution_count": 20,
   "metadata": {},
   "outputs": [],
   "source": [
    "filename1 ='../results/er/er-c5-d16-l5-n10-p0_25-keep-0a05984ca01c41d495dd131e2eb636eb.tsv'\n",
    "filename2 = '../results/er/er-c5-d16-l5-n10-p0_25-keep-0cb8d19dd9df4df7b80c46432c477b07.tsv'\n",
    "X= np.loadtxt(filename1, delimiter=\"\\t\")\n",
    "diamx = metrics.diameter(X)\n",
    "X= X/diamx\n",
    "\n",
    "Y= np.loadtxt(filename2, delimiter=\"\\t\")\n",
    "diamy = metrics.diameter(Y)\n",
    "Y= Y/diamy\n",
    "\n",
    "dX = pairwise_distances(X, metric='euclidean')\n",
    "dY = pairwise_distances(Y, metric='euclidean')\n",
    "\n",
    "DX = (dX+dX.T)/2\n",
    "DY = (dY+dY.T)/2\n",
    " \n",
    "DDX= skbio.stats.distance.DistanceMatrix(DX)\n",
    "DDY= skbio.stats.distance.DistanceMatrix(DY)\n",
    "\n",
    "mantel= skbio.stats.distance.mantel(DDX,DDY, method='spearman', permutations=10, alternative='two-sided', strict=True, lookup=None)\n",
    "\n"
   ]
  },
  {
   "cell_type": "code",
   "execution_count": 40,
   "metadata": {},
   "outputs": [
    {
     "data": {
      "text/plain": [
       "0.36363636363636365"
      ]
     },
     "execution_count": 40,
     "metadata": {},
     "output_type": "execute_result"
    }
   ],
   "source": [
    "mantel[1]"
   ]
  },
  {
   "cell_type": "code",
   "execution_count": 47,
   "metadata": {},
   "outputs": [],
   "source": [
    "def Mantel_test(filename1, filename2, method = 'pearson', permutations = 100): \n",
    "    \"\"\"Computes the correlation of two distance matrices of same size via the Mantel test\n",
    "        permutations = number of permutations performed for the test \n",
    "        method = 'pearson' or 'spearman' corrrelation coefficient\n",
    "    \"\"\"\n",
    "    X= np.loadtxt(filename1, delimiter=\"\\t\")\n",
    "    diamx = metrics.diameter(X)\n",
    "    X= X/diamx\n",
    "\n",
    "    Y= np.loadtxt(filename2, delimiter=\"\\t\")\n",
    "    diamy = metrics.diameter(Y)\n",
    "    Y= Y/diamy\n",
    "\n",
    "    dX = pairwise_distances(X, metric='euclidean')\n",
    "    dY = pairwise_distances(Y, metric='euclidean')\n",
    "    \n",
    "    ## make sure they are symmetric because package seems sensitive to slight assymetries.. \n",
    "    dX = (dX+dX.T)/2\n",
    "    dY = (dY+dY.T)/2\n",
    "    ## fit the package fomrmat of Distance \n",
    "    DDX= skbio.stats.distance.DissimilarityMatrix(dX)\n",
    "    DDY= skbio.stats.distance.DissimilarityMatrix(dY)\n",
    "    \n",
    "    Mantel = skbio.stats.distance.mantel(DDX,DDY, method=method, permutations=permutations, alternative='two-sided', strict=True, lookup=None)\n",
    "    corr = Mantel[0]\n",
    "    pval = Mantel[1]\n",
    "    \n",
    "    return corr, pval"
   ]
  },
  {
   "cell_type": "code",
   "execution_count": 49,
   "metadata": {},
   "outputs": [
    {
     "data": {
      "text/plain": [
       "(0.07610620217403695, 0.1918081918081918)"
      ]
     },
     "execution_count": 49,
     "metadata": {},
     "output_type": "execute_result"
    }
   ],
   "source": [
    "Mantel_test(filename1,filename2, 'spearman',1000)"
   ]
  },
  {
   "cell_type": "code",
   "execution_count": null,
   "metadata": {},
   "outputs": [],
   "source": []
  }
 ],
 "metadata": {
  "kernelspec": {
   "display_name": "Python 3",
   "language": "python",
   "name": "python3"
  },
  "language_info": {
   "codemirror_mode": {
    "name": "ipython",
    "version": 3
   },
   "file_extension": ".py",
   "mimetype": "text/x-python",
   "name": "python",
   "nbconvert_exporter": "python",
   "pygments_lexer": "ipython3",
   "version": "3.7.6"
  }
 },
 "nbformat": 4,
 "nbformat_minor": 4
}
